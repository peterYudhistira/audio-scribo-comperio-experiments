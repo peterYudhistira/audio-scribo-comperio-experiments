{
 "cells": [
  {
   "attachments": {},
   "cell_type": "markdown",
   "metadata": {},
   "source": [
    "<h2>IMPORTS</h2>"
   ]
  },
  {
   "cell_type": "code",
   "execution_count": 27,
   "metadata": {},
   "outputs": [],
   "source": [
    "# imports go here\n",
    "import db"
   ]
  },
  {
   "attachments": {},
   "cell_type": "markdown",
   "metadata": {},
   "source": [
    "<h2>Data Retrieval</h2>"
   ]
  },
  {
   "cell_type": "code",
   "execution_count": 74,
   "metadata": {},
   "outputs": [],
   "source": [
    "# dh = db.DatabaseHandler(\"testdb.db\")  # db connection\n",
    "\n",
    "\n",
    "def GetDF(dh:db.DatabaseHandler, selector: str, eventID: int, splitBySentences: bool = False):\n",
    "    df = dh.get_recordDataJoinedDF(selector=selector, ID=eventID)\n",
    "    if splitBySentences:\n",
    "        # df.set_index('id', inplace=True)\n",
    "        df['answer'] = df['answer'].str.split('.')\n",
    "        df = df.explode(\"answer\", True)\n",
    "        df = df.drop(df[df[\"answer\"] == \"\"].index)\n",
    "    return df\n",
    "\n",
    "\n",
    "# df = GetDF(\"event_id\", 19, True)\n"
   ]
  },
  {
   "attachments": {},
   "cell_type": "markdown",
   "metadata": {},
   "source": []
  },
  {
   "cell_type": "code",
   "execution_count": null,
   "metadata": {},
   "outputs": [],
   "source": []
  }
 ],
 "metadata": {
  "kernelspec": {
   "display_name": "Python 3",
   "language": "python",
   "name": "python3"
  },
  "language_info": {
   "codemirror_mode": {
    "name": "ipython",
    "version": 3
   },
   "file_extension": ".py",
   "mimetype": "text/x-python",
   "name": "python",
   "nbconvert_exporter": "python",
   "pygments_lexer": "ipython3",
   "version": "3.8.0"
  },
  "orig_nbformat": 4
 },
 "nbformat": 4,
 "nbformat_minor": 2
}
