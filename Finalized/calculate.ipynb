{
 "cells": [
  {
   "cell_type": "code",
   "execution_count": 13,
   "metadata": {},
   "outputs": [
    {
     "name": "stdout",
     "output_type": "stream",
     "text": [
      "0.5625\n",
      "0.5625\n",
      "0.5625\n",
      "0.5625\n",
      "0.5384615384615384\n",
      "0.5384615384615384\n",
      "0.5384615384615384\n",
      "0.5384615384615384\n",
      "0.5384615384615384\n",
      "0.5384615384615384\n",
      "18_Embedding_g50_False_IF_0.5_100.csv\n",
      "18_Embedding_g50_False_LOF_0.5_5.csv\n",
      "18_LDA_20_False_IF_0.5_50.csv\n",
      "18_Embedding_g50_False_IF_0.5_500.csv\n",
      "18_Embedding_g50_False_LOF_0.3_4.csv\n",
      "18_Embedding_g50_True_IF_0.3_50.csv\n",
      "18_Embedding_g300_False_LOF_0.3_4.csv\n",
      "18_Embedding_g300_False_LOF_0.3_3.csv\n",
      "18_Embedding_g300_False_LOF_0.3_2.csv\n",
      "18_Embedding_n300_False_LOF_0.3_5.csv\n"
     ]
    }
   ],
   "source": [
    "import pandas as pd\n",
    "\n",
    "df = pd.read_csv('hasilsurvey/18result.csv', sep=\"|\")\n",
    "sorted_df = df.sort_values(by='similarity', ascending=False)\n",
    "top_10 = sorted_df.head(10)\n",
    "for value in top_10['similarity']:\n",
    "    print(value)\n",
    "\n",
    "for value in top_10['combination']:\n",
    "    print(value)"
   ]
  }
 ],
 "metadata": {
  "kernelspec": {
   "display_name": "Python 3",
   "language": "python",
   "name": "python3"
  },
  "language_info": {
   "codemirror_mode": {
    "name": "ipython",
    "version": 3
   },
   "file_extension": ".py",
   "mimetype": "text/x-python",
   "name": "python",
   "nbconvert_exporter": "python",
   "pygments_lexer": "ipython3",
   "version": "3.8.0"
  },
  "orig_nbformat": 4
 },
 "nbformat": 4,
 "nbformat_minor": 2
}
